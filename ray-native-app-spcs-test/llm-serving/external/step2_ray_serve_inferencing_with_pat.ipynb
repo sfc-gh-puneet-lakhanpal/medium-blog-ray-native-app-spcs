{
 "cells": [
  {
   "cell_type": "markdown",
   "id": "e5d067da",
   "metadata": {},
   "source": [
    "### External inferencing on LLM deployed on SPCS"
   ]
  },
  {
   "cell_type": "code",
   "execution_count": 2,
   "id": "726ecbfa-7610-424b-a739-06be7ac3be88",
   "metadata": {},
   "outputs": [],
   "source": [
    "import os\n",
    "from openai import OpenAI\n",
    "from dotenv import load_dotenv"
   ]
  },
  {
   "cell_type": "code",
   "execution_count": 3,
   "id": "e502c941",
   "metadata": {},
   "outputs": [],
   "source": [
    "def get_headers(token):\n",
    "    headers = {'Authorization': f'Snowflake Token=\"{token}\"'}\n",
    "    return headers\n",
    "\n",
    "env_path = '.env'\n",
    "load_dotenv(dotenv_path=env_path)\n",
    "pat = os.getenv(\"SNOWFLAKE_PAT\")\n",
    "headers = get_headers(pat)\n",
    "base_url = \"https://jje5aqc-sfsenorthamerica-demo391.snowflakecomputing.app/v1\""
   ]
  },
  {
   "cell_type": "code",
   "execution_count": 4,
   "id": "3fd98240-07db-47e7-ae05-71578f9ac5e7",
   "metadata": {},
   "outputs": [],
   "source": [
    "client = OpenAI(\n",
    "    base_url=base_url,\n",
    "    api_key=\"dummy\",\n",
    "    default_headers=headers\n",
    ")"
   ]
  },
  {
   "cell_type": "code",
   "execution_count": 5,
   "id": "9a93f618-7f64-4d48-bec6-49826ace6be1",
   "metadata": {},
   "outputs": [
    {
     "name": "stdout",
     "output_type": "stream",
     "text": [
      "<think>\n",
      "Okay, the user asked for a short introduction to large language models. Let me start by defining what they are. Large language models, or LLMs, are AI systems trained on vast amounts of text data. They can generate human-like text, answer questions, and perform various tasks. I should mention their capabilities, like understanding context, generating text, and multilingual support.\n",
      "\n",
      "Wait, maybe I should explain how they work briefly. They use deep learning, specifically transformer architectures, which allow them to process sequences of data efficiently. That's important for their performance. Also, their training on diverse data gives them broad knowledge, but I should note potential limitations, such as biases in training data or factual inaccuracies.\n",
      "\n",
      "I need to highlight applications—like chatbots, content creation, and code writing. But keep it concise. The user wants a short intro, so I shouldn't go too deep into technical details. Make sure to mention the impact on industries and the ethical considerations. Oh, and maybe end with a note on their transformative role in AI. Let me structure that into a coherent paragraph without being too verbose.\n",
      "</think>\n",
      "\n",
      "Large language models (LLMs) are advanced artificial intelligence systems trained on vast amounts of text data to understand and generate human-like language. They use deep learning techniques, particularly transformer architectures, to process and predict sequences of words, enabling them to perform tasks like answering questions, writing text, translating languages, and even coding. LLMs excel at contextual understanding, allowing them to adapt to diverse topics and styles. However, their outputs depend on the quality and biases of their training data, and they may occasionally produce inaccurate or ethically problematic content. Despite these challenges, LLMs have revolutionized fields like natural language processing, chatbots, and content creation, reshaping how humans interact with technology."
     ]
    }
   ],
   "source": [
    "# Basic chat completion with streaming\n",
    "chat_response = client.chat.completions.create(\n",
    "    model=\"Qwen/Qwen3-14B\",\n",
    "    messages=[{\"role\": \"user\", \"content\": \"Give me a short introduction to large language models.\"}],\n",
    "    stream=True\n",
    ")\n",
    "\n",
    "for chunk in chat_response:\n",
    "    if chunk.choices[0].delta.content is not None:\n",
    "        print(chunk.choices[0].delta.content, end=\"\", flush=True)"
   ]
  },
  {
   "cell_type": "code",
   "execution_count": null,
   "id": "f6313484-d656-4fb4-b26f-38f10ad0c936",
   "metadata": {},
   "outputs": [],
   "source": []
  }
 ],
 "metadata": {
  "kernelspec": {
   "display_name": "mediumblograynativeappspcs",
   "language": "python",
   "name": "python3"
  },
  "language_info": {
   "codemirror_mode": {
    "name": "ipython",
    "version": 3
   },
   "file_extension": ".py",
   "mimetype": "text/x-python",
   "name": "python",
   "nbconvert_exporter": "python",
   "pygments_lexer": "ipython3",
   "version": "3.11.13"
  }
 },
 "nbformat": 4,
 "nbformat_minor": 5
}

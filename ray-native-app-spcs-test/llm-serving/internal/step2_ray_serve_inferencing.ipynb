{
 "cells": [
  {
   "cell_type": "code",
   "execution_count": 1,
   "id": "726ecbfa-7610-424b-a739-06be7ac3be88",
   "metadata": {},
   "outputs": [],
   "source": [
    "from openai import OpenAI\n",
    "# Set OpenAI's API key and API base to use vLLM's API server.\n",
    "openai_api_key = \"EMPTY\"\n",
    "openai_api_base = \"http://localhost:8000/v1\""
   ]
  },
  {
   "cell_type": "code",
   "execution_count": 2,
   "id": "3fd98240-07db-47e7-ae05-71578f9ac5e7",
   "metadata": {},
   "outputs": [],
   "source": [
    "client = OpenAI(\n",
    "    api_key=openai_api_key,\n",
    "    base_url=openai_api_base,\n",
    ")"
   ]
  },
  {
   "cell_type": "code",
   "execution_count": 3,
   "id": "9a93f618-7f64-4d48-bec6-49826ace6be1",
   "metadata": {},
   "outputs": [
    {
     "name": "stdout",
     "output_type": "stream",
     "text": [
      "<think>\n",
      "Okay, the user is asking for a short introduction to large language models. Let me start by defining what they are. I should mention that they're AI systems trained on vast amounts of text data. Maybe explain their capabilities like generating text, answering questions, and creating content.\n",
      "\n",
      "I need to highlight their key features: massive parameters, training data, and applications. Also, touch on their impact across industries like healthcare, education, and tech. But I should keep it concise since it's a short intro. Avoid too much jargon, but make sure to include terms like transformer architecture if relevant. Maybe mention examples like GPT or BERT, but not sure if the user needs specific models. Also, note the challenges like computational resources and ethical concerns. Keep it balanced but not too detailed. Alright, structure the response with a clear opening, main points, and a conclusion about their significance.\n",
      "</think>\n",
      "\n",
      "Large language models (LLMs) are advanced AI systems trained on vast amounts of text data to understand and generate human-like language. They excel at tasks like answering questions, writing stories, coding, and translating languages by learning patterns and relationships in text. Built using deep learning architectures (e.g., transformers), LLMs process input contextually, enabling them to produce coherent, context-aware responses. Their versatility has revolutionized fields like healthcare, education, and customer service, though challenges like computational costs, bias, and ethical use remain critical areas of focus."
     ]
    }
   ],
   "source": [
    "# Basic chat completion with streaming\n",
    "chat_response = client.chat.completions.create(\n",
    "    model=\"Qwen/Qwen3-14B\",\n",
    "    messages=[{\"role\": \"user\", \"content\": \"Give me a short introduction to large language models.\"}],\n",
    "    stream=True\n",
    ")\n",
    "\n",
    "for chunk in chat_response:\n",
    "    if chunk.choices[0].delta.content is not None:\n",
    "        print(chunk.choices[0].delta.content, end=\"\", flush=True)"
   ]
  },
  {
   "cell_type": "code",
   "execution_count": null,
   "id": "f6313484-d656-4fb4-b26f-38f10ad0c936",
   "metadata": {},
   "outputs": [],
   "source": []
  }
 ],
 "metadata": {
  "kernelspec": {
   "display_name": "Python 3 (ipykernel)",
   "language": "python",
   "name": "python3"
  },
  "language_info": {
   "codemirror_mode": {
    "name": "ipython",
    "version": 3
   },
   "file_extension": ".py",
   "mimetype": "text/x-python",
   "name": "python",
   "nbconvert_exporter": "python",
   "pygments_lexer": "ipython3",
   "version": "3.10.12"
  }
 },
 "nbformat": 4,
 "nbformat_minor": 5
}
